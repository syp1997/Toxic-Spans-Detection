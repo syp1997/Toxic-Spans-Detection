{
  "nbformat": 4,
  "nbformat_minor": 0,
  "metadata": {
    "colab": {
      "name": "ToxicSpans_v4.ipynb",
      "provenance": [],
      "collapsed_sections": [],
      "machine_shape": "hm"
    },
    "kernelspec": {
      "name": "python3",
      "display_name": "Python 3"
    },
    "language_info": {
      "name": "python"
    },
    "accelerator": "GPU",
    "widgets": {
      "application/vnd.jupyter.widget-state+json": {
        "1caedc76209d45459c92573a5c9dc728": {
          "model_module": "@jupyter-widgets/controls",
          "model_name": "HBoxModel",
          "state": {
            "_view_name": "HBoxView",
            "_dom_classes": [],
            "_model_name": "HBoxModel",
            "_view_module": "@jupyter-widgets/controls",
            "_model_module_version": "1.5.0",
            "_view_count": null,
            "_view_module_version": "1.5.0",
            "box_style": "",
            "layout": "IPY_MODEL_3f9d37c8f8eb459f80a151a131d09248",
            "_model_module": "@jupyter-widgets/controls",
            "children": [
              "IPY_MODEL_15ee55e86b7e45518edd2aa606c9d3de",
              "IPY_MODEL_105a5aabf4e64533a0166036dd0e75ba"
            ]
          }
        },
        "3f9d37c8f8eb459f80a151a131d09248": {
          "model_module": "@jupyter-widgets/base",
          "model_name": "LayoutModel",
          "state": {
            "_view_name": "LayoutView",
            "grid_template_rows": null,
            "right": null,
            "justify_content": null,
            "_view_module": "@jupyter-widgets/base",
            "overflow": null,
            "_model_module_version": "1.2.0",
            "_view_count": null,
            "flex_flow": null,
            "width": null,
            "min_width": null,
            "border": null,
            "align_items": null,
            "bottom": null,
            "_model_module": "@jupyter-widgets/base",
            "top": null,
            "grid_column": null,
            "overflow_y": null,
            "overflow_x": null,
            "grid_auto_flow": null,
            "grid_area": null,
            "grid_template_columns": null,
            "flex": null,
            "_model_name": "LayoutModel",
            "justify_items": null,
            "grid_row": null,
            "max_height": null,
            "align_content": null,
            "visibility": null,
            "align_self": null,
            "height": null,
            "min_height": null,
            "padding": null,
            "grid_auto_rows": null,
            "grid_gap": null,
            "max_width": null,
            "order": null,
            "_view_module_version": "1.2.0",
            "grid_template_areas": null,
            "object_position": null,
            "object_fit": null,
            "grid_auto_columns": null,
            "margin": null,
            "display": null,
            "left": null
          }
        },
        "15ee55e86b7e45518edd2aa606c9d3de": {
          "model_module": "@jupyter-widgets/controls",
          "model_name": "FloatProgressModel",
          "state": {
            "_view_name": "ProgressView",
            "style": "IPY_MODEL_9698e4b327d24f7881a2c6278fc47fc1",
            "_dom_classes": [],
            "description": "Downloading: 100%",
            "_model_name": "FloatProgressModel",
            "bar_style": "success",
            "max": 469,
            "_view_module": "@jupyter-widgets/controls",
            "_model_module_version": "1.5.0",
            "value": 469,
            "_view_count": null,
            "_view_module_version": "1.5.0",
            "orientation": "horizontal",
            "min": 0,
            "description_tooltip": null,
            "_model_module": "@jupyter-widgets/controls",
            "layout": "IPY_MODEL_3a83303d82e04a62add7b27512fbf11d"
          }
        },
        "105a5aabf4e64533a0166036dd0e75ba": {
          "model_module": "@jupyter-widgets/controls",
          "model_name": "HTMLModel",
          "state": {
            "_view_name": "HTMLView",
            "style": "IPY_MODEL_191a6a66446744af90416cbb24c6c010",
            "_dom_classes": [],
            "description": "",
            "_model_name": "HTMLModel",
            "placeholder": "​",
            "_view_module": "@jupyter-widgets/controls",
            "_model_module_version": "1.5.0",
            "value": " 469/469 [00:02&lt;00:00, 204B/s]",
            "_view_count": null,
            "_view_module_version": "1.5.0",
            "description_tooltip": null,
            "_model_module": "@jupyter-widgets/controls",
            "layout": "IPY_MODEL_8a88ef507bc64c9f8f8e9583b9c99420"
          }
        },
        "9698e4b327d24f7881a2c6278fc47fc1": {
          "model_module": "@jupyter-widgets/controls",
          "model_name": "ProgressStyleModel",
          "state": {
            "_view_name": "StyleView",
            "_model_name": "ProgressStyleModel",
            "description_width": "initial",
            "_view_module": "@jupyter-widgets/base",
            "_model_module_version": "1.5.0",
            "_view_count": null,
            "_view_module_version": "1.2.0",
            "bar_color": null,
            "_model_module": "@jupyter-widgets/controls"
          }
        },
        "3a83303d82e04a62add7b27512fbf11d": {
          "model_module": "@jupyter-widgets/base",
          "model_name": "LayoutModel",
          "state": {
            "_view_name": "LayoutView",
            "grid_template_rows": null,
            "right": null,
            "justify_content": null,
            "_view_module": "@jupyter-widgets/base",
            "overflow": null,
            "_model_module_version": "1.2.0",
            "_view_count": null,
            "flex_flow": null,
            "width": null,
            "min_width": null,
            "border": null,
            "align_items": null,
            "bottom": null,
            "_model_module": "@jupyter-widgets/base",
            "top": null,
            "grid_column": null,
            "overflow_y": null,
            "overflow_x": null,
            "grid_auto_flow": null,
            "grid_area": null,
            "grid_template_columns": null,
            "flex": null,
            "_model_name": "LayoutModel",
            "justify_items": null,
            "grid_row": null,
            "max_height": null,
            "align_content": null,
            "visibility": null,
            "align_self": null,
            "height": null,
            "min_height": null,
            "padding": null,
            "grid_auto_rows": null,
            "grid_gap": null,
            "max_width": null,
            "order": null,
            "_view_module_version": "1.2.0",
            "grid_template_areas": null,
            "object_position": null,
            "object_fit": null,
            "grid_auto_columns": null,
            "margin": null,
            "display": null,
            "left": null
          }
        },
        "191a6a66446744af90416cbb24c6c010": {
          "model_module": "@jupyter-widgets/controls",
          "model_name": "DescriptionStyleModel",
          "state": {
            "_view_name": "StyleView",
            "_model_name": "DescriptionStyleModel",
            "description_width": "",
            "_view_module": "@jupyter-widgets/base",
            "_model_module_version": "1.5.0",
            "_view_count": null,
            "_view_module_version": "1.2.0",
            "_model_module": "@jupyter-widgets/controls"
          }
        },
        "8a88ef507bc64c9f8f8e9583b9c99420": {
          "model_module": "@jupyter-widgets/base",
          "model_name": "LayoutModel",
          "state": {
            "_view_name": "LayoutView",
            "grid_template_rows": null,
            "right": null,
            "justify_content": null,
            "_view_module": "@jupyter-widgets/base",
            "overflow": null,
            "_model_module_version": "1.2.0",
            "_view_count": null,
            "flex_flow": null,
            "width": null,
            "min_width": null,
            "border": null,
            "align_items": null,
            "bottom": null,
            "_model_module": "@jupyter-widgets/base",
            "top": null,
            "grid_column": null,
            "overflow_y": null,
            "overflow_x": null,
            "grid_auto_flow": null,
            "grid_area": null,
            "grid_template_columns": null,
            "flex": null,
            "_model_name": "LayoutModel",
            "justify_items": null,
            "grid_row": null,
            "max_height": null,
            "align_content": null,
            "visibility": null,
            "align_self": null,
            "height": null,
            "min_height": null,
            "padding": null,
            "grid_auto_rows": null,
            "grid_gap": null,
            "max_width": null,
            "order": null,
            "_view_module_version": "1.2.0",
            "grid_template_areas": null,
            "object_position": null,
            "object_fit": null,
            "grid_auto_columns": null,
            "margin": null,
            "display": null,
            "left": null
          }
        },
        "13b9974cb7fb41c694b5f889b6f0a562": {
          "model_module": "@jupyter-widgets/controls",
          "model_name": "HBoxModel",
          "state": {
            "_view_name": "HBoxView",
            "_dom_classes": [],
            "_model_name": "HBoxModel",
            "_view_module": "@jupyter-widgets/controls",
            "_model_module_version": "1.5.0",
            "_view_count": null,
            "_view_module_version": "1.5.0",
            "box_style": "",
            "layout": "IPY_MODEL_fc14199023b848acaf3d730bf85dc69b",
            "_model_module": "@jupyter-widgets/controls",
            "children": [
              "IPY_MODEL_7ceb1c3eb3404f6991ab69425fbe0dfc",
              "IPY_MODEL_8de2b212a636452a953fec35cb13ae8d"
            ]
          }
        },
        "fc14199023b848acaf3d730bf85dc69b": {
          "model_module": "@jupyter-widgets/base",
          "model_name": "LayoutModel",
          "state": {
            "_view_name": "LayoutView",
            "grid_template_rows": null,
            "right": null,
            "justify_content": null,
            "_view_module": "@jupyter-widgets/base",
            "overflow": null,
            "_model_module_version": "1.2.0",
            "_view_count": null,
            "flex_flow": null,
            "width": null,
            "min_width": null,
            "border": null,
            "align_items": null,
            "bottom": null,
            "_model_module": "@jupyter-widgets/base",
            "top": null,
            "grid_column": null,
            "overflow_y": null,
            "overflow_x": null,
            "grid_auto_flow": null,
            "grid_area": null,
            "grid_template_columns": null,
            "flex": null,
            "_model_name": "LayoutModel",
            "justify_items": null,
            "grid_row": null,
            "max_height": null,
            "align_content": null,
            "visibility": null,
            "align_self": null,
            "height": null,
            "min_height": null,
            "padding": null,
            "grid_auto_rows": null,
            "grid_gap": null,
            "max_width": null,
            "order": null,
            "_view_module_version": "1.2.0",
            "grid_template_areas": null,
            "object_position": null,
            "object_fit": null,
            "grid_auto_columns": null,
            "margin": null,
            "display": null,
            "left": null
          }
        },
        "7ceb1c3eb3404f6991ab69425fbe0dfc": {
          "model_module": "@jupyter-widgets/controls",
          "model_name": "FloatProgressModel",
          "state": {
            "_view_name": "ProgressView",
            "style": "IPY_MODEL_f2071e77e54540078e7c4a902b97cf9a",
            "_dom_classes": [],
            "description": "Downloading: 100%",
            "_model_name": "FloatProgressModel",
            "bar_style": "success",
            "max": 231508,
            "_view_module": "@jupyter-widgets/controls",
            "_model_module_version": "1.5.0",
            "value": 231508,
            "_view_count": null,
            "_view_module_version": "1.5.0",
            "orientation": "horizontal",
            "min": 0,
            "description_tooltip": null,
            "_model_module": "@jupyter-widgets/controls",
            "layout": "IPY_MODEL_9a240813856b41ee8ad31c8855ac1285"
          }
        },
        "8de2b212a636452a953fec35cb13ae8d": {
          "model_module": "@jupyter-widgets/controls",
          "model_name": "HTMLModel",
          "state": {
            "_view_name": "HTMLView",
            "style": "IPY_MODEL_46acd9b19b0a4001bf37ddb76b18cdb3",
            "_dom_classes": [],
            "description": "",
            "_model_name": "HTMLModel",
            "placeholder": "​",
            "_view_module": "@jupyter-widgets/controls",
            "_model_module_version": "1.5.0",
            "value": " 232k/232k [00:01&lt;00:00, 125kB/s]",
            "_view_count": null,
            "_view_module_version": "1.5.0",
            "description_tooltip": null,
            "_model_module": "@jupyter-widgets/controls",
            "layout": "IPY_MODEL_03f02eb051f6439c9dcf2917e0ebb7a8"
          }
        },
        "f2071e77e54540078e7c4a902b97cf9a": {
          "model_module": "@jupyter-widgets/controls",
          "model_name": "ProgressStyleModel",
          "state": {
            "_view_name": "StyleView",
            "_model_name": "ProgressStyleModel",
            "description_width": "initial",
            "_view_module": "@jupyter-widgets/base",
            "_model_module_version": "1.5.0",
            "_view_count": null,
            "_view_module_version": "1.2.0",
            "bar_color": null,
            "_model_module": "@jupyter-widgets/controls"
          }
        },
        "9a240813856b41ee8ad31c8855ac1285": {
          "model_module": "@jupyter-widgets/base",
          "model_name": "LayoutModel",
          "state": {
            "_view_name": "LayoutView",
            "grid_template_rows": null,
            "right": null,
            "justify_content": null,
            "_view_module": "@jupyter-widgets/base",
            "overflow": null,
            "_model_module_version": "1.2.0",
            "_view_count": null,
            "flex_flow": null,
            "width": null,
            "min_width": null,
            "border": null,
            "align_items": null,
            "bottom": null,
            "_model_module": "@jupyter-widgets/base",
            "top": null,
            "grid_column": null,
            "overflow_y": null,
            "overflow_x": null,
            "grid_auto_flow": null,
            "grid_area": null,
            "grid_template_columns": null,
            "flex": null,
            "_model_name": "LayoutModel",
            "justify_items": null,
            "grid_row": null,
            "max_height": null,
            "align_content": null,
            "visibility": null,
            "align_self": null,
            "height": null,
            "min_height": null,
            "padding": null,
            "grid_auto_rows": null,
            "grid_gap": null,
            "max_width": null,
            "order": null,
            "_view_module_version": "1.2.0",
            "grid_template_areas": null,
            "object_position": null,
            "object_fit": null,
            "grid_auto_columns": null,
            "margin": null,
            "display": null,
            "left": null
          }
        },
        "46acd9b19b0a4001bf37ddb76b18cdb3": {
          "model_module": "@jupyter-widgets/controls",
          "model_name": "DescriptionStyleModel",
          "state": {
            "_view_name": "StyleView",
            "_model_name": "DescriptionStyleModel",
            "description_width": "",
            "_view_module": "@jupyter-widgets/base",
            "_model_module_version": "1.5.0",
            "_view_count": null,
            "_view_module_version": "1.2.0",
            "_model_module": "@jupyter-widgets/controls"
          }
        },
        "03f02eb051f6439c9dcf2917e0ebb7a8": {
          "model_module": "@jupyter-widgets/base",
          "model_name": "LayoutModel",
          "state": {
            "_view_name": "LayoutView",
            "grid_template_rows": null,
            "right": null,
            "justify_content": null,
            "_view_module": "@jupyter-widgets/base",
            "overflow": null,
            "_model_module_version": "1.2.0",
            "_view_count": null,
            "flex_flow": null,
            "width": null,
            "min_width": null,
            "border": null,
            "align_items": null,
            "bottom": null,
            "_model_module": "@jupyter-widgets/base",
            "top": null,
            "grid_column": null,
            "overflow_y": null,
            "overflow_x": null,
            "grid_auto_flow": null,
            "grid_area": null,
            "grid_template_columns": null,
            "flex": null,
            "_model_name": "LayoutModel",
            "justify_items": null,
            "grid_row": null,
            "max_height": null,
            "align_content": null,
            "visibility": null,
            "align_self": null,
            "height": null,
            "min_height": null,
            "padding": null,
            "grid_auto_rows": null,
            "grid_gap": null,
            "max_width": null,
            "order": null,
            "_view_module_version": "1.2.0",
            "grid_template_areas": null,
            "object_position": null,
            "object_fit": null,
            "grid_auto_columns": null,
            "margin": null,
            "display": null,
            "left": null
          }
        },
        "80f754696e584aaf872a5b592e519cb5": {
          "model_module": "@jupyter-widgets/controls",
          "model_name": "HBoxModel",
          "state": {
            "_view_name": "HBoxView",
            "_dom_classes": [],
            "_model_name": "HBoxModel",
            "_view_module": "@jupyter-widgets/controls",
            "_model_module_version": "1.5.0",
            "_view_count": null,
            "_view_module_version": "1.5.0",
            "box_style": "",
            "layout": "IPY_MODEL_79f364e1c32c4f36a22ca22a9a386233",
            "_model_module": "@jupyter-widgets/controls",
            "children": [
              "IPY_MODEL_8b2383414a3c45bdb09942207bacafc1",
              "IPY_MODEL_f6cb7ac097714012bf16b388a33c7f17"
            ]
          }
        },
        "79f364e1c32c4f36a22ca22a9a386233": {
          "model_module": "@jupyter-widgets/base",
          "model_name": "LayoutModel",
          "state": {
            "_view_name": "LayoutView",
            "grid_template_rows": null,
            "right": null,
            "justify_content": null,
            "_view_module": "@jupyter-widgets/base",
            "overflow": null,
            "_model_module_version": "1.2.0",
            "_view_count": null,
            "flex_flow": null,
            "width": null,
            "min_width": null,
            "border": null,
            "align_items": null,
            "bottom": null,
            "_model_module": "@jupyter-widgets/base",
            "top": null,
            "grid_column": null,
            "overflow_y": null,
            "overflow_x": null,
            "grid_auto_flow": null,
            "grid_area": null,
            "grid_template_columns": null,
            "flex": null,
            "_model_name": "LayoutModel",
            "justify_items": null,
            "grid_row": null,
            "max_height": null,
            "align_content": null,
            "visibility": null,
            "align_self": null,
            "height": null,
            "min_height": null,
            "padding": null,
            "grid_auto_rows": null,
            "grid_gap": null,
            "max_width": null,
            "order": null,
            "_view_module_version": "1.2.0",
            "grid_template_areas": null,
            "object_position": null,
            "object_fit": null,
            "grid_auto_columns": null,
            "margin": null,
            "display": null,
            "left": null
          }
        },
        "8b2383414a3c45bdb09942207bacafc1": {
          "model_module": "@jupyter-widgets/controls",
          "model_name": "FloatProgressModel",
          "state": {
            "_view_name": "ProgressView",
            "style": "IPY_MODEL_0e9b05232cce485caed93226d824bae5",
            "_dom_classes": [],
            "description": "Downloading: 100%",
            "_model_name": "FloatProgressModel",
            "bar_style": "success",
            "max": 466062,
            "_view_module": "@jupyter-widgets/controls",
            "_model_module_version": "1.5.0",
            "value": 466062,
            "_view_count": null,
            "_view_module_version": "1.5.0",
            "orientation": "horizontal",
            "min": 0,
            "description_tooltip": null,
            "_model_module": "@jupyter-widgets/controls",
            "layout": "IPY_MODEL_49de4b1456d64124bd3dc5d7c2015a88"
          }
        },
        "f6cb7ac097714012bf16b388a33c7f17": {
          "model_module": "@jupyter-widgets/controls",
          "model_name": "HTMLModel",
          "state": {
            "_view_name": "HTMLView",
            "style": "IPY_MODEL_334dbc9c43184a288144231641e39484",
            "_dom_classes": [],
            "description": "",
            "_model_name": "HTMLModel",
            "placeholder": "​",
            "_view_module": "@jupyter-widgets/controls",
            "_model_module_version": "1.5.0",
            "value": " 466k/466k [00:01&lt;00:00, 398kB/s]",
            "_view_count": null,
            "_view_module_version": "1.5.0",
            "description_tooltip": null,
            "_model_module": "@jupyter-widgets/controls",
            "layout": "IPY_MODEL_7d447c821edf43dbacd1c5dc4c6cc6d2"
          }
        },
        "0e9b05232cce485caed93226d824bae5": {
          "model_module": "@jupyter-widgets/controls",
          "model_name": "ProgressStyleModel",
          "state": {
            "_view_name": "StyleView",
            "_model_name": "ProgressStyleModel",
            "description_width": "initial",
            "_view_module": "@jupyter-widgets/base",
            "_model_module_version": "1.5.0",
            "_view_count": null,
            "_view_module_version": "1.2.0",
            "bar_color": null,
            "_model_module": "@jupyter-widgets/controls"
          }
        },
        "49de4b1456d64124bd3dc5d7c2015a88": {
          "model_module": "@jupyter-widgets/base",
          "model_name": "LayoutModel",
          "state": {
            "_view_name": "LayoutView",
            "grid_template_rows": null,
            "right": null,
            "justify_content": null,
            "_view_module": "@jupyter-widgets/base",
            "overflow": null,
            "_model_module_version": "1.2.0",
            "_view_count": null,
            "flex_flow": null,
            "width": null,
            "min_width": null,
            "border": null,
            "align_items": null,
            "bottom": null,
            "_model_module": "@jupyter-widgets/base",
            "top": null,
            "grid_column": null,
            "overflow_y": null,
            "overflow_x": null,
            "grid_auto_flow": null,
            "grid_area": null,
            "grid_template_columns": null,
            "flex": null,
            "_model_name": "LayoutModel",
            "justify_items": null,
            "grid_row": null,
            "max_height": null,
            "align_content": null,
            "visibility": null,
            "align_self": null,
            "height": null,
            "min_height": null,
            "padding": null,
            "grid_auto_rows": null,
            "grid_gap": null,
            "max_width": null,
            "order": null,
            "_view_module_version": "1.2.0",
            "grid_template_areas": null,
            "object_position": null,
            "object_fit": null,
            "grid_auto_columns": null,
            "margin": null,
            "display": null,
            "left": null
          }
        },
        "334dbc9c43184a288144231641e39484": {
          "model_module": "@jupyter-widgets/controls",
          "model_name": "DescriptionStyleModel",
          "state": {
            "_view_name": "StyleView",
            "_model_name": "DescriptionStyleModel",
            "description_width": "",
            "_view_module": "@jupyter-widgets/base",
            "_model_module_version": "1.5.0",
            "_view_count": null,
            "_view_module_version": "1.2.0",
            "_model_module": "@jupyter-widgets/controls"
          }
        },
        "7d447c821edf43dbacd1c5dc4c6cc6d2": {
          "model_module": "@jupyter-widgets/base",
          "model_name": "LayoutModel",
          "state": {
            "_view_name": "LayoutView",
            "grid_template_rows": null,
            "right": null,
            "justify_content": null,
            "_view_module": "@jupyter-widgets/base",
            "overflow": null,
            "_model_module_version": "1.2.0",
            "_view_count": null,
            "flex_flow": null,
            "width": null,
            "min_width": null,
            "border": null,
            "align_items": null,
            "bottom": null,
            "_model_module": "@jupyter-widgets/base",
            "top": null,
            "grid_column": null,
            "overflow_y": null,
            "overflow_x": null,
            "grid_auto_flow": null,
            "grid_area": null,
            "grid_template_columns": null,
            "flex": null,
            "_model_name": "LayoutModel",
            "justify_items": null,
            "grid_row": null,
            "max_height": null,
            "align_content": null,
            "visibility": null,
            "align_self": null,
            "height": null,
            "min_height": null,
            "padding": null,
            "grid_auto_rows": null,
            "grid_gap": null,
            "max_width": null,
            "order": null,
            "_view_module_version": "1.2.0",
            "grid_template_areas": null,
            "object_position": null,
            "object_fit": null,
            "grid_auto_columns": null,
            "margin": null,
            "display": null,
            "left": null
          }
        },
        "521772f0be4b4d3e83c804338822caed": {
          "model_module": "@jupyter-widgets/controls",
          "model_name": "HBoxModel",
          "state": {
            "_view_name": "HBoxView",
            "_dom_classes": [],
            "_model_name": "HBoxModel",
            "_view_module": "@jupyter-widgets/controls",
            "_model_module_version": "1.5.0",
            "_view_count": null,
            "_view_module_version": "1.5.0",
            "box_style": "",
            "layout": "IPY_MODEL_6371e9dbebd947f9b2953bb87df16ce1",
            "_model_module": "@jupyter-widgets/controls",
            "children": [
              "IPY_MODEL_744be0b76eb349e2ae250aaf706a5a10",
              "IPY_MODEL_be192b4cc11e4969ae43ba753e277021"
            ]
          }
        },
        "6371e9dbebd947f9b2953bb87df16ce1": {
          "model_module": "@jupyter-widgets/base",
          "model_name": "LayoutModel",
          "state": {
            "_view_name": "LayoutView",
            "grid_template_rows": null,
            "right": null,
            "justify_content": null,
            "_view_module": "@jupyter-widgets/base",
            "overflow": null,
            "_model_module_version": "1.2.0",
            "_view_count": null,
            "flex_flow": null,
            "width": null,
            "min_width": null,
            "border": null,
            "align_items": null,
            "bottom": null,
            "_model_module": "@jupyter-widgets/base",
            "top": null,
            "grid_column": null,
            "overflow_y": null,
            "overflow_x": null,
            "grid_auto_flow": null,
            "grid_area": null,
            "grid_template_columns": null,
            "flex": null,
            "_model_name": "LayoutModel",
            "justify_items": null,
            "grid_row": null,
            "max_height": null,
            "align_content": null,
            "visibility": null,
            "align_self": null,
            "height": null,
            "min_height": null,
            "padding": null,
            "grid_auto_rows": null,
            "grid_gap": null,
            "max_width": null,
            "order": null,
            "_view_module_version": "1.2.0",
            "grid_template_areas": null,
            "object_position": null,
            "object_fit": null,
            "grid_auto_columns": null,
            "margin": null,
            "display": null,
            "left": null
          }
        },
        "744be0b76eb349e2ae250aaf706a5a10": {
          "model_module": "@jupyter-widgets/controls",
          "model_name": "FloatProgressModel",
          "state": {
            "_view_name": "ProgressView",
            "style": "IPY_MODEL_8448a23c9fbc4ef3a89cec7722bc41a3",
            "_dom_classes": [],
            "description": "Downloading: 100%",
            "_model_name": "FloatProgressModel",
            "bar_style": "success",
            "max": 27,
            "_view_module": "@jupyter-widgets/controls",
            "_model_module_version": "1.5.0",
            "value": 27,
            "_view_count": null,
            "_view_module_version": "1.5.0",
            "orientation": "horizontal",
            "min": 0,
            "description_tooltip": null,
            "_model_module": "@jupyter-widgets/controls",
            "layout": "IPY_MODEL_e5b56ce81378417e9eb2bedf74813599"
          }
        },
        "be192b4cc11e4969ae43ba753e277021": {
          "model_module": "@jupyter-widgets/controls",
          "model_name": "HTMLModel",
          "state": {
            "_view_name": "HTMLView",
            "style": "IPY_MODEL_58333329cef94b5f8e2b3449892ffeea",
            "_dom_classes": [],
            "description": "",
            "_model_name": "HTMLModel",
            "placeholder": "​",
            "_view_module": "@jupyter-widgets/controls",
            "_model_module_version": "1.5.0",
            "value": " 27.0/27.0 [00:00&lt;00:00, 161B/s]",
            "_view_count": null,
            "_view_module_version": "1.5.0",
            "description_tooltip": null,
            "_model_module": "@jupyter-widgets/controls",
            "layout": "IPY_MODEL_08bfa3e7f6664f7abfe12a9af6880456"
          }
        },
        "8448a23c9fbc4ef3a89cec7722bc41a3": {
          "model_module": "@jupyter-widgets/controls",
          "model_name": "ProgressStyleModel",
          "state": {
            "_view_name": "StyleView",
            "_model_name": "ProgressStyleModel",
            "description_width": "initial",
            "_view_module": "@jupyter-widgets/base",
            "_model_module_version": "1.5.0",
            "_view_count": null,
            "_view_module_version": "1.2.0",
            "bar_color": null,
            "_model_module": "@jupyter-widgets/controls"
          }
        },
        "e5b56ce81378417e9eb2bedf74813599": {
          "model_module": "@jupyter-widgets/base",
          "model_name": "LayoutModel",
          "state": {
            "_view_name": "LayoutView",
            "grid_template_rows": null,
            "right": null,
            "justify_content": null,
            "_view_module": "@jupyter-widgets/base",
            "overflow": null,
            "_model_module_version": "1.2.0",
            "_view_count": null,
            "flex_flow": null,
            "width": null,
            "min_width": null,
            "border": null,
            "align_items": null,
            "bottom": null,
            "_model_module": "@jupyter-widgets/base",
            "top": null,
            "grid_column": null,
            "overflow_y": null,
            "overflow_x": null,
            "grid_auto_flow": null,
            "grid_area": null,
            "grid_template_columns": null,
            "flex": null,
            "_model_name": "LayoutModel",
            "justify_items": null,
            "grid_row": null,
            "max_height": null,
            "align_content": null,
            "visibility": null,
            "align_self": null,
            "height": null,
            "min_height": null,
            "padding": null,
            "grid_auto_rows": null,
            "grid_gap": null,
            "max_width": null,
            "order": null,
            "_view_module_version": "1.2.0",
            "grid_template_areas": null,
            "object_position": null,
            "object_fit": null,
            "grid_auto_columns": null,
            "margin": null,
            "display": null,
            "left": null
          }
        },
        "58333329cef94b5f8e2b3449892ffeea": {
          "model_module": "@jupyter-widgets/controls",
          "model_name": "DescriptionStyleModel",
          "state": {
            "_view_name": "StyleView",
            "_model_name": "DescriptionStyleModel",
            "description_width": "",
            "_view_module": "@jupyter-widgets/base",
            "_model_module_version": "1.5.0",
            "_view_count": null,
            "_view_module_version": "1.2.0",
            "_model_module": "@jupyter-widgets/controls"
          }
        },
        "08bfa3e7f6664f7abfe12a9af6880456": {
          "model_module": "@jupyter-widgets/base",
          "model_name": "LayoutModel",
          "state": {
            "_view_name": "LayoutView",
            "grid_template_rows": null,
            "right": null,
            "justify_content": null,
            "_view_module": "@jupyter-widgets/base",
            "overflow": null,
            "_model_module_version": "1.2.0",
            "_view_count": null,
            "flex_flow": null,
            "width": null,
            "min_width": null,
            "border": null,
            "align_items": null,
            "bottom": null,
            "_model_module": "@jupyter-widgets/base",
            "top": null,
            "grid_column": null,
            "overflow_y": null,
            "overflow_x": null,
            "grid_auto_flow": null,
            "grid_area": null,
            "grid_template_columns": null,
            "flex": null,
            "_model_name": "LayoutModel",
            "justify_items": null,
            "grid_row": null,
            "max_height": null,
            "align_content": null,
            "visibility": null,
            "align_self": null,
            "height": null,
            "min_height": null,
            "padding": null,
            "grid_auto_rows": null,
            "grid_gap": null,
            "max_width": null,
            "order": null,
            "_view_module_version": "1.2.0",
            "grid_template_areas": null,
            "object_position": null,
            "object_fit": null,
            "grid_auto_columns": null,
            "margin": null,
            "display": null,
            "left": null
          }
        },
        "1fddcbe5ae274db7850d08c015795b12": {
          "model_module": "@jupyter-widgets/controls",
          "model_name": "HBoxModel",
          "state": {
            "_view_name": "HBoxView",
            "_dom_classes": [],
            "_model_name": "HBoxModel",
            "_view_module": "@jupyter-widgets/controls",
            "_model_module_version": "1.5.0",
            "_view_count": null,
            "_view_module_version": "1.5.0",
            "box_style": "",
            "layout": "IPY_MODEL_cd966e8be0c34b9baca7c8276d8edc6f",
            "_model_module": "@jupyter-widgets/controls",
            "children": [
              "IPY_MODEL_a1aaccb6d84b49948eb2f201f9f64ac4",
              "IPY_MODEL_1a46562c10044c639242b9571176655a"
            ]
          }
        },
        "cd966e8be0c34b9baca7c8276d8edc6f": {
          "model_module": "@jupyter-widgets/base",
          "model_name": "LayoutModel",
          "state": {
            "_view_name": "LayoutView",
            "grid_template_rows": null,
            "right": null,
            "justify_content": null,
            "_view_module": "@jupyter-widgets/base",
            "overflow": null,
            "_model_module_version": "1.2.0",
            "_view_count": null,
            "flex_flow": null,
            "width": null,
            "min_width": null,
            "border": null,
            "align_items": null,
            "bottom": null,
            "_model_module": "@jupyter-widgets/base",
            "top": null,
            "grid_column": null,
            "overflow_y": null,
            "overflow_x": null,
            "grid_auto_flow": null,
            "grid_area": null,
            "grid_template_columns": null,
            "flex": null,
            "_model_name": "LayoutModel",
            "justify_items": null,
            "grid_row": null,
            "max_height": null,
            "align_content": null,
            "visibility": null,
            "align_self": null,
            "height": null,
            "min_height": null,
            "padding": null,
            "grid_auto_rows": null,
            "grid_gap": null,
            "max_width": null,
            "order": null,
            "_view_module_version": "1.2.0",
            "grid_template_areas": null,
            "object_position": null,
            "object_fit": null,
            "grid_auto_columns": null,
            "margin": null,
            "display": null,
            "left": null
          }
        },
        "a1aaccb6d84b49948eb2f201f9f64ac4": {
          "model_module": "@jupyter-widgets/controls",
          "model_name": "FloatProgressModel",
          "state": {
            "_view_name": "ProgressView",
            "style": "IPY_MODEL_fbe6adc693404a6fa558c4a93d60dfa9",
            "_dom_classes": [],
            "description": "Downloading: 100%",
            "_model_name": "FloatProgressModel",
            "bar_style": "success",
            "max": 1344867008,
            "_view_module": "@jupyter-widgets/controls",
            "_model_module_version": "1.5.0",
            "value": 1344867008,
            "_view_count": null,
            "_view_module_version": "1.5.0",
            "orientation": "horizontal",
            "min": 0,
            "description_tooltip": null,
            "_model_module": "@jupyter-widgets/controls",
            "layout": "IPY_MODEL_461cc7703248429f9efce5fe8ff1453b"
          }
        },
        "1a46562c10044c639242b9571176655a": {
          "model_module": "@jupyter-widgets/controls",
          "model_name": "HTMLModel",
          "state": {
            "_view_name": "HTMLView",
            "style": "IPY_MODEL_9421d8186f5b4c088d399b2ebc5cb97a",
            "_dom_classes": [],
            "description": "",
            "_model_name": "HTMLModel",
            "placeholder": "​",
            "_view_module": "@jupyter-widgets/controls",
            "_model_module_version": "1.5.0",
            "value": " 1.34G/1.34G [1:10:28&lt;00:00, 318kB/s]",
            "_view_count": null,
            "_view_module_version": "1.5.0",
            "description_tooltip": null,
            "_model_module": "@jupyter-widgets/controls",
            "layout": "IPY_MODEL_eef93311c3624d3c9535edee6692aa77"
          }
        },
        "fbe6adc693404a6fa558c4a93d60dfa9": {
          "model_module": "@jupyter-widgets/controls",
          "model_name": "ProgressStyleModel",
          "state": {
            "_view_name": "StyleView",
            "_model_name": "ProgressStyleModel",
            "description_width": "initial",
            "_view_module": "@jupyter-widgets/base",
            "_model_module_version": "1.5.0",
            "_view_count": null,
            "_view_module_version": "1.2.0",
            "bar_color": null,
            "_model_module": "@jupyter-widgets/controls"
          }
        },
        "461cc7703248429f9efce5fe8ff1453b": {
          "model_module": "@jupyter-widgets/base",
          "model_name": "LayoutModel",
          "state": {
            "_view_name": "LayoutView",
            "grid_template_rows": null,
            "right": null,
            "justify_content": null,
            "_view_module": "@jupyter-widgets/base",
            "overflow": null,
            "_model_module_version": "1.2.0",
            "_view_count": null,
            "flex_flow": null,
            "width": null,
            "min_width": null,
            "border": null,
            "align_items": null,
            "bottom": null,
            "_model_module": "@jupyter-widgets/base",
            "top": null,
            "grid_column": null,
            "overflow_y": null,
            "overflow_x": null,
            "grid_auto_flow": null,
            "grid_area": null,
            "grid_template_columns": null,
            "flex": null,
            "_model_name": "LayoutModel",
            "justify_items": null,
            "grid_row": null,
            "max_height": null,
            "align_content": null,
            "visibility": null,
            "align_self": null,
            "height": null,
            "min_height": null,
            "padding": null,
            "grid_auto_rows": null,
            "grid_gap": null,
            "max_width": null,
            "order": null,
            "_view_module_version": "1.2.0",
            "grid_template_areas": null,
            "object_position": null,
            "object_fit": null,
            "grid_auto_columns": null,
            "margin": null,
            "display": null,
            "left": null
          }
        },
        "9421d8186f5b4c088d399b2ebc5cb97a": {
          "model_module": "@jupyter-widgets/controls",
          "model_name": "DescriptionStyleModel",
          "state": {
            "_view_name": "StyleView",
            "_model_name": "DescriptionStyleModel",
            "description_width": "",
            "_view_module": "@jupyter-widgets/base",
            "_model_module_version": "1.5.0",
            "_view_count": null,
            "_view_module_version": "1.2.0",
            "_model_module": "@jupyter-widgets/controls"
          }
        },
        "eef93311c3624d3c9535edee6692aa77": {
          "model_module": "@jupyter-widgets/base",
          "model_name": "LayoutModel",
          "state": {
            "_view_name": "LayoutView",
            "grid_template_rows": null,
            "right": null,
            "justify_content": null,
            "_view_module": "@jupyter-widgets/base",
            "overflow": null,
            "_model_module_version": "1.2.0",
            "_view_count": null,
            "flex_flow": null,
            "width": null,
            "min_width": null,
            "border": null,
            "align_items": null,
            "bottom": null,
            "_model_module": "@jupyter-widgets/base",
            "top": null,
            "grid_column": null,
            "overflow_y": null,
            "overflow_x": null,
            "grid_auto_flow": null,
            "grid_area": null,
            "grid_template_columns": null,
            "flex": null,
            "_model_name": "LayoutModel",
            "justify_items": null,
            "grid_row": null,
            "max_height": null,
            "align_content": null,
            "visibility": null,
            "align_self": null,
            "height": null,
            "min_height": null,
            "padding": null,
            "grid_auto_rows": null,
            "grid_gap": null,
            "max_width": null,
            "order": null,
            "_view_module_version": "1.2.0",
            "grid_template_areas": null,
            "object_position": null,
            "object_fit": null,
            "grid_auto_columns": null,
            "margin": null,
            "display": null,
            "left": null
          }
        }
      }
    }
  },
  "cells": [
    {
      "cell_type": "code",
      "metadata": {
        "id": "bCOPRfXOyx7S",
        "colab": {
          "base_uri": "https://localhost:8080/"
        },
        "outputId": "b5407a4b-bc6e-4f4f-d9b4-884a1b10f666"
      },
      "source": [
        "!git clone https://github.com/ipavlopoulos/toxic_spans.git"
      ],
      "execution_count": 1,
      "outputs": [
        {
          "output_type": "stream",
          "text": [
            "Cloning into 'toxic_spans'...\n",
            "remote: Enumerating objects: 298, done.\u001b[K\n",
            "remote: Counting objects: 100% (30/30), done.\u001b[K\n",
            "remote: Compressing objects: 100% (28/28), done.\u001b[K\n",
            "remote: Total 298 (delta 8), reused 17 (delta 2), pack-reused 268\u001b[K\n",
            "Receiving objects: 100% (298/298), 1.32 MiB | 7.68 MiB/s, done.\n",
            "Resolving deltas: 100% (138/138), done.\n"
          ],
          "name": "stdout"
        }
      ]
    },
    {
      "cell_type": "code",
      "metadata": {
        "id": "HOkoyQsdzULS",
        "colab": {
          "base_uri": "https://localhost:8080/"
        },
        "outputId": "59ddd3b8-f276-4ac2-8c2f-f1e6a41d6c6b"
      },
      "source": [
        "!pip install transformers"
      ],
      "execution_count": 2,
      "outputs": [
        {
          "output_type": "stream",
          "text": [
            "Collecting transformers\n",
            "\u001b[?25l  Downloading https://files.pythonhosted.org/packages/d8/b2/57495b5309f09fa501866e225c84532d1fd89536ea62406b2181933fb418/transformers-4.5.1-py3-none-any.whl (2.1MB)\n",
            "\u001b[K     |████████████████████████████████| 2.1MB 8.3MB/s \n",
            "\u001b[?25hRequirement already satisfied: packaging in /usr/local/lib/python3.7/dist-packages (from transformers) (20.9)\n",
            "Collecting sacremoses\n",
            "\u001b[?25l  Downloading https://files.pythonhosted.org/packages/75/ee/67241dc87f266093c533a2d4d3d69438e57d7a90abb216fa076e7d475d4a/sacremoses-0.0.45-py3-none-any.whl (895kB)\n",
            "\u001b[K     |████████████████████████████████| 901kB 50.6MB/s \n",
            "\u001b[?25hRequirement already satisfied: tqdm>=4.27 in /usr/local/lib/python3.7/dist-packages (from transformers) (4.41.1)\n",
            "Requirement already satisfied: regex!=2019.12.17 in /usr/local/lib/python3.7/dist-packages (from transformers) (2019.12.20)\n",
            "Collecting tokenizers<0.11,>=0.10.1\n",
            "\u001b[?25l  Downloading https://files.pythonhosted.org/packages/ae/04/5b870f26a858552025a62f1649c20d29d2672c02ff3c3fb4c688ca46467a/tokenizers-0.10.2-cp37-cp37m-manylinux2010_x86_64.whl (3.3MB)\n",
            "\u001b[K     |████████████████████████████████| 3.3MB 59.1MB/s \n",
            "\u001b[?25hRequirement already satisfied: filelock in /usr/local/lib/python3.7/dist-packages (from transformers) (3.0.12)\n",
            "Requirement already satisfied: requests in /usr/local/lib/python3.7/dist-packages (from transformers) (2.23.0)\n",
            "Requirement already satisfied: importlib-metadata; python_version < \"3.8\" in /usr/local/lib/python3.7/dist-packages (from transformers) (3.10.1)\n",
            "Requirement already satisfied: numpy>=1.17 in /usr/local/lib/python3.7/dist-packages (from transformers) (1.19.5)\n",
            "Requirement already satisfied: pyparsing>=2.0.2 in /usr/local/lib/python3.7/dist-packages (from packaging->transformers) (2.4.7)\n",
            "Requirement already satisfied: six in /usr/local/lib/python3.7/dist-packages (from sacremoses->transformers) (1.15.0)\n",
            "Requirement already satisfied: click in /usr/local/lib/python3.7/dist-packages (from sacremoses->transformers) (7.1.2)\n",
            "Requirement already satisfied: joblib in /usr/local/lib/python3.7/dist-packages (from sacremoses->transformers) (1.0.1)\n",
            "Requirement already satisfied: urllib3!=1.25.0,!=1.25.1,<1.26,>=1.21.1 in /usr/local/lib/python3.7/dist-packages (from requests->transformers) (1.24.3)\n",
            "Requirement already satisfied: idna<3,>=2.5 in /usr/local/lib/python3.7/dist-packages (from requests->transformers) (2.10)\n",
            "Requirement already satisfied: chardet<4,>=3.0.2 in /usr/local/lib/python3.7/dist-packages (from requests->transformers) (3.0.4)\n",
            "Requirement already satisfied: certifi>=2017.4.17 in /usr/local/lib/python3.7/dist-packages (from requests->transformers) (2020.12.5)\n",
            "Requirement already satisfied: zipp>=0.5 in /usr/local/lib/python3.7/dist-packages (from importlib-metadata; python_version < \"3.8\"->transformers) (3.4.1)\n",
            "Requirement already satisfied: typing-extensions>=3.6.4; python_version < \"3.8\" in /usr/local/lib/python3.7/dist-packages (from importlib-metadata; python_version < \"3.8\"->transformers) (3.7.4.3)\n",
            "Installing collected packages: sacremoses, tokenizers, transformers\n",
            "Successfully installed sacremoses-0.0.45 tokenizers-0.10.2 transformers-4.5.1\n"
          ],
          "name": "stdout"
        }
      ]
    },
    {
      "cell_type": "code",
      "metadata": {
        "colab": {
          "base_uri": "https://localhost:8080/"
        },
        "id": "Nnfu24uHzXsI",
        "outputId": "b0ef96ad-f972-4c87-f2fd-961e1f607268"
      },
      "source": [
        "!nvidia-smi"
      ],
      "execution_count": 3,
      "outputs": [
        {
          "output_type": "stream",
          "text": [
            "Sun Apr 25 09:13:21 2021       \n",
            "+-----------------------------------------------------------------------------+\n",
            "| NVIDIA-SMI 465.19.01    Driver Version: 460.32.03    CUDA Version: 11.2     |\n",
            "|-------------------------------+----------------------+----------------------+\n",
            "| GPU  Name        Persistence-M| Bus-Id        Disp.A | Volatile Uncorr. ECC |\n",
            "| Fan  Temp  Perf  Pwr:Usage/Cap|         Memory-Usage | GPU-Util  Compute M. |\n",
            "|                               |                      |               MIG M. |\n",
            "|===============================+======================+======================|\n",
            "|   0  Tesla P100-PCIE...  Off  | 00000000:00:04.0 Off |                    0 |\n",
            "| N/A   35C    P0    27W / 250W |      0MiB / 16280MiB |      0%      Default |\n",
            "|                               |                      |                  N/A |\n",
            "+-------------------------------+----------------------+----------------------+\n",
            "                                                                               \n",
            "+-----------------------------------------------------------------------------+\n",
            "| Processes:                                                                  |\n",
            "|  GPU   GI   CI        PID   Type   Process name                  GPU Memory |\n",
            "|        ID   ID                                                   Usage      |\n",
            "|=============================================================================|\n",
            "|  No running processes found                                                 |\n",
            "+-----------------------------------------------------------------------------+\n"
          ],
          "name": "stdout"
        }
      ]
    },
    {
      "cell_type": "code",
      "metadata": {
        "id": "LLCJZi3by5WG"
      },
      "source": [
        "from ast import literal_eval\n",
        "import pandas as pd\n",
        "import numpy as np\n",
        "import torch\n",
        "from transformers import AutoTokenizer, AutoModelForTokenClassification\n",
        "from torch.utils.data import Dataset, TensorDataset, DataLoader, random_split\n",
        "import torch.nn as nn\n",
        "from tqdm import tqdm\n",
        "import math\n",
        "import os\n",
        "device = 'cuda' if torch.cuda.is_available() else 'cpu'   "
      ],
      "execution_count": 4,
      "outputs": []
    },
    {
      "cell_type": "code",
      "metadata": {
        "id": "fnjxVa0OVNea"
      },
      "source": [
        "# set up logging\n",
        "import logging\n",
        "logging.basicConfig(\n",
        "        format=\"%(asctime)s - %(message)s\",\n",
        "        datefmt=\"%m/%d/%Y %H:%M:%S\",\n",
        "        level=logging.INFO,\n",
        ")\n",
        "logger = logging.getLogger(__name__)\n",
        "logging.getLogger('transformers').setLevel(logging.ERROR)"
      ],
      "execution_count": 5,
      "outputs": []
    },
    {
      "cell_type": "code",
      "metadata": {
        "id": "RmjKQ3cXSelg"
      },
      "source": [
        "translationTable = str.maketrans(\"éàèùaêóïü\",\"eaeuaeoiu\")"
      ],
      "execution_count": 6,
      "outputs": []
    },
    {
      "cell_type": "code",
      "metadata": {
        "colab": {
          "base_uri": "https://localhost:8080/",
          "height": 204
        },
        "id": "9dYjJLf3y5YO",
        "outputId": "8b3c4c6f-aea7-47af-9415-16a049645f8d"
      },
      "source": [
        "tsd = pd.read_csv(\"toxic_spans/data/tsd_train.csv\") \n",
        "tsd.text = tsd.text.apply(lambda x:x.translate(translationTable))\n",
        "tsd.spans = tsd.spans.apply(literal_eval)\n",
        "tsd.tail(5)"
      ],
      "execution_count": 7,
      "outputs": [
        {
          "output_type": "execute_result",
          "data": {
            "text/html": [
              "<div>\n",
              "<style scoped>\n",
              "    .dataframe tbody tr th:only-of-type {\n",
              "        vertical-align: middle;\n",
              "    }\n",
              "\n",
              "    .dataframe tbody tr th {\n",
              "        vertical-align: top;\n",
              "    }\n",
              "\n",
              "    .dataframe thead th {\n",
              "        text-align: right;\n",
              "    }\n",
              "</style>\n",
              "<table border=\"1\" class=\"dataframe\">\n",
              "  <thead>\n",
              "    <tr style=\"text-align: right;\">\n",
              "      <th></th>\n",
              "      <th>spans</th>\n",
              "      <th>text</th>\n",
              "    </tr>\n",
              "  </thead>\n",
              "  <tbody>\n",
              "    <tr>\n",
              "      <th>7934</th>\n",
              "      <td>[8, 9, 10, 11]</td>\n",
              "      <td>Another fool pipes in.</td>\n",
              "    </tr>\n",
              "    <tr>\n",
              "      <th>7935</th>\n",
              "      <td>[48, 49, 50, 51, 52, 53, 54, 55, 56, 57, 58, 5...</td>\n",
              "      <td>So if a restaurant owner puts up a sign saying...</td>\n",
              "    </tr>\n",
              "    <tr>\n",
              "      <th>7936</th>\n",
              "      <td>[0, 1, 2, 3, 4, 5, 6, 7, 8, 9, 10, 11, 12, 13,...</td>\n",
              "      <td>Any faith that can't stand up to logic and rea...</td>\n",
              "    </tr>\n",
              "    <tr>\n",
              "      <th>7937</th>\n",
              "      <td>[5, 6, 7, 8, 9, 10, 11]</td>\n",
              "      <td>This idiotic. Use the surplus to pay down the ...</td>\n",
              "    </tr>\n",
              "    <tr>\n",
              "      <th>7938</th>\n",
              "      <td>[106, 107, 108, 109, 110, 169, 170, 171, 172, ...</td>\n",
              "      <td>Who is this \"we\" of which you speak? Are you r...</td>\n",
              "    </tr>\n",
              "  </tbody>\n",
              "</table>\n",
              "</div>"
            ],
            "text/plain": [
              "                                                  spans                                               text\n",
              "7934                                     [8, 9, 10, 11]                             Another fool pipes in.\n",
              "7935  [48, 49, 50, 51, 52, 53, 54, 55, 56, 57, 58, 5...  So if a restaurant owner puts up a sign saying...\n",
              "7936  [0, 1, 2, 3, 4, 5, 6, 7, 8, 9, 10, 11, 12, 13,...  Any faith that can't stand up to logic and rea...\n",
              "7937                            [5, 6, 7, 8, 9, 10, 11]  This idiotic. Use the surplus to pay down the ...\n",
              "7938  [106, 107, 108, 109, 110, 169, 170, 171, 172, ...  Who is this \"we\" of which you speak? Are you r..."
            ]
          },
          "metadata": {
            "tags": []
          },
          "execution_count": 7
        }
      ]
    },
    {
      "cell_type": "code",
      "metadata": {
        "id": "tm6qdnG9y5ao"
      },
      "source": [
        "text_list = tsd.text.to_list()\n",
        "spans_list = tsd.spans.to_list()"
      ],
      "execution_count": 8,
      "outputs": []
    },
    {
      "cell_type": "code",
      "metadata": {
        "colab": {
          "base_uri": "https://localhost:8080/"
        },
        "id": "EckJscETy5ck",
        "outputId": "9fb10bcb-2748-4449-b7fc-616940c75edf"
      },
      "source": [
        "print(len(text_list))\n",
        "print(len(spans_list))"
      ],
      "execution_count": 9,
      "outputs": [
        {
          "output_type": "stream",
          "text": [
            "7939\n",
            "7939\n"
          ],
          "name": "stdout"
        }
      ]
    },
    {
      "cell_type": "code",
      "metadata": {
        "id": "bmMMvE4McZQO"
      },
      "source": [
        "model_name = \"google/electra-large-discriminator\""
      ],
      "execution_count": 10,
      "outputs": []
    },
    {
      "cell_type": "code",
      "metadata": {
        "id": "fi7nb_gjzNvr",
        "colab": {
          "base_uri": "https://localhost:8080/",
          "height": 369,
          "referenced_widgets": [
            "1caedc76209d45459c92573a5c9dc728",
            "3f9d37c8f8eb459f80a151a131d09248",
            "15ee55e86b7e45518edd2aa606c9d3de",
            "105a5aabf4e64533a0166036dd0e75ba",
            "9698e4b327d24f7881a2c6278fc47fc1",
            "3a83303d82e04a62add7b27512fbf11d",
            "191a6a66446744af90416cbb24c6c010",
            "8a88ef507bc64c9f8f8e9583b9c99420",
            "13b9974cb7fb41c694b5f889b6f0a562",
            "fc14199023b848acaf3d730bf85dc69b",
            "7ceb1c3eb3404f6991ab69425fbe0dfc",
            "8de2b212a636452a953fec35cb13ae8d",
            "f2071e77e54540078e7c4a902b97cf9a",
            "9a240813856b41ee8ad31c8855ac1285",
            "46acd9b19b0a4001bf37ddb76b18cdb3",
            "03f02eb051f6439c9dcf2917e0ebb7a8",
            "80f754696e584aaf872a5b592e519cb5",
            "79f364e1c32c4f36a22ca22a9a386233",
            "8b2383414a3c45bdb09942207bacafc1",
            "f6cb7ac097714012bf16b388a33c7f17",
            "0e9b05232cce485caed93226d824bae5",
            "49de4b1456d64124bd3dc5d7c2015a88",
            "334dbc9c43184a288144231641e39484",
            "7d447c821edf43dbacd1c5dc4c6cc6d2",
            "521772f0be4b4d3e83c804338822caed",
            "6371e9dbebd947f9b2953bb87df16ce1",
            "744be0b76eb349e2ae250aaf706a5a10",
            "be192b4cc11e4969ae43ba753e277021",
            "8448a23c9fbc4ef3a89cec7722bc41a3",
            "e5b56ce81378417e9eb2bedf74813599",
            "58333329cef94b5f8e2b3449892ffeea",
            "08bfa3e7f6664f7abfe12a9af6880456"
          ]
        },
        "outputId": "6f8d94f9-c026-490a-99cc-bc5be6025b4b"
      },
      "source": [
        "tokenizer = AutoTokenizer.from_pretrained(model_name)"
      ],
      "execution_count": 11,
      "outputs": [
        {
          "output_type": "stream",
          "text": [
            "04/25/2021 09:13:24 - Lock 140159506594832 acquired on /root/.cache/huggingface/transformers/344f5be314c0b91e28096c6730a1a43d61ba11aee91fd8ff026aba39138181d1.42a26b08340748782d961639bc9f49bce229c0f3a1e6c3f0142221e387d80169.lock\n"
          ],
          "name": "stderr"
        },
        {
          "output_type": "display_data",
          "data": {
            "application/vnd.jupyter.widget-view+json": {
              "model_id": "1caedc76209d45459c92573a5c9dc728",
              "version_minor": 0,
              "version_major": 2
            },
            "text/plain": [
              "HBox(children=(FloatProgress(value=0.0, description='Downloading', max=469.0, style=ProgressStyle(description_…"
            ]
          },
          "metadata": {
            "tags": []
          }
        },
        {
          "output_type": "stream",
          "text": [
            "04/25/2021 09:13:24 - Lock 140159506594832 released on /root/.cache/huggingface/transformers/344f5be314c0b91e28096c6730a1a43d61ba11aee91fd8ff026aba39138181d1.42a26b08340748782d961639bc9f49bce229c0f3a1e6c3f0142221e387d80169.lock\n"
          ],
          "name": "stderr"
        },
        {
          "output_type": "stream",
          "text": [
            "\n"
          ],
          "name": "stdout"
        },
        {
          "output_type": "stream",
          "text": [
            "04/25/2021 09:13:25 - Lock 140161019302800 acquired on /root/.cache/huggingface/transformers/48a62a60c85c63546f3623e592c2ddfd0628ed7749e6d503a11eb80cb04fc19c.d789d64ebfe299b0e416afc4a169632f903f693095b4629a7ea271d5a0cf2c99.lock\n"
          ],
          "name": "stderr"
        },
        {
          "output_type": "display_data",
          "data": {
            "application/vnd.jupyter.widget-view+json": {
              "model_id": "13b9974cb7fb41c694b5f889b6f0a562",
              "version_minor": 0,
              "version_major": 2
            },
            "text/plain": [
              "HBox(children=(FloatProgress(value=0.0, description='Downloading', max=231508.0, style=ProgressStyle(descripti…"
            ]
          },
          "metadata": {
            "tags": []
          }
        },
        {
          "output_type": "stream",
          "text": [
            "04/25/2021 09:13:25 - Lock 140161019302800 released on /root/.cache/huggingface/transformers/48a62a60c85c63546f3623e592c2ddfd0628ed7749e6d503a11eb80cb04fc19c.d789d64ebfe299b0e416afc4a169632f903f693095b4629a7ea271d5a0cf2c99.lock\n"
          ],
          "name": "stderr"
        },
        {
          "output_type": "stream",
          "text": [
            "\n"
          ],
          "name": "stdout"
        },
        {
          "output_type": "stream",
          "text": [
            "04/25/2021 09:13:25 - Lock 140159654409808 acquired on /root/.cache/huggingface/transformers/ed8095412008e8a8159d4bbdcecd02e5e72b79a1fc7dbfdc32e6aef638d4b9a9.65c74b3f0086fae55b99a8c9173a6739a53ae5ae0441c0811095141532f33ff8.lock\n"
          ],
          "name": "stderr"
        },
        {
          "output_type": "display_data",
          "data": {
            "application/vnd.jupyter.widget-view+json": {
              "model_id": "80f754696e584aaf872a5b592e519cb5",
              "version_minor": 0,
              "version_major": 2
            },
            "text/plain": [
              "HBox(children=(FloatProgress(value=0.0, description='Downloading', max=466062.0, style=ProgressStyle(descripti…"
            ]
          },
          "metadata": {
            "tags": []
          }
        },
        {
          "output_type": "stream",
          "text": [
            "04/25/2021 09:13:26 - Lock 140159654409808 released on /root/.cache/huggingface/transformers/ed8095412008e8a8159d4bbdcecd02e5e72b79a1fc7dbfdc32e6aef638d4b9a9.65c74b3f0086fae55b99a8c9173a6739a53ae5ae0441c0811095141532f33ff8.lock\n"
          ],
          "name": "stderr"
        },
        {
          "output_type": "stream",
          "text": [
            "\n"
          ],
          "name": "stdout"
        },
        {
          "output_type": "stream",
          "text": [
            "04/25/2021 09:13:26 - Lock 140159503397520 acquired on /root/.cache/huggingface/transformers/26ad81c46898598ce9aed0b02fd3c9175a28daa30317e4f1980b5e871d823b67.4f2213f5603276adf12967b32e4444c0f187f34ca4f8b22a65f03e13514589e9.lock\n"
          ],
          "name": "stderr"
        },
        {
          "output_type": "display_data",
          "data": {
            "application/vnd.jupyter.widget-view+json": {
              "model_id": "521772f0be4b4d3e83c804338822caed",
              "version_minor": 0,
              "version_major": 2
            },
            "text/plain": [
              "HBox(children=(FloatProgress(value=0.0, description='Downloading', max=27.0, style=ProgressStyle(description_w…"
            ]
          },
          "metadata": {
            "tags": []
          }
        },
        {
          "output_type": "stream",
          "text": [
            "04/25/2021 09:13:27 - Lock 140159503397520 released on /root/.cache/huggingface/transformers/26ad81c46898598ce9aed0b02fd3c9175a28daa30317e4f1980b5e871d823b67.4f2213f5603276adf12967b32e4444c0f187f34ca4f8b22a65f03e13514589e9.lock\n"
          ],
          "name": "stderr"
        },
        {
          "output_type": "stream",
          "text": [
            "\n"
          ],
          "name": "stdout"
        }
      ]
    },
    {
      "cell_type": "code",
      "metadata": {
        "id": "zkRGzg9AIFsa"
      },
      "source": [
        "special_tokens={'unk_token': '[UNK]', 'sep_token': '[SEP]', 'pad_token': '[PAD]', 'cls_token': '[CLS]', 'mask_token': '[MASK]'}"
      ],
      "execution_count": 12,
      "outputs": []
    },
    {
      "cell_type": "code",
      "metadata": {
        "id": "5ciQ8nVh6Paz"
      },
      "source": [
        "def find_idx(sentence, token, position=0):\n",
        "    start = sentence.find(token, position)\n",
        "    end = start + len(token)\n",
        "    if start == -1:\n",
        "        return []\n",
        "    return list(range(start,end))"
      ],
      "execution_count": 13,
      "outputs": []
    },
    {
      "cell_type": "code",
      "metadata": {
        "id": "DcRW8DlKGeBW"
      },
      "source": [
        "def encode_and_trans_labels(text_list, spans_list):\n",
        "    inputs = tokenizer(\n",
        "        text_list,                      \n",
        "        add_special_tokens = True,             \n",
        "        truncation=True,\n",
        "        padding = 'max_length',     \n",
        "        return_tensors = 'pt',\n",
        "        max_length = 256\n",
        "    )\n",
        "    input_ids = inputs['input_ids']\n",
        "    attention_mask = inputs['attention_mask']\n",
        "\n",
        "    labels = []\n",
        "    for ids, sentence, toxic_spans in zip(input_ids, text_list, spans_list):\n",
        "        # print(sentence)\n",
        "        # print(toxic_spans)\n",
        "        tokens = tokenizer.convert_ids_to_tokens(ids)\n",
        "        token_labels = []\n",
        "        position = 0\n",
        "        for token in tokens[:]:\n",
        "            if token in special_tokens.values():\n",
        "                token_labels.append(0.)\n",
        "            else:\n",
        "                token = token.replace(\"##\",\"\")\n",
        "                spans = find_idx(sentence.lower(), token, position=position)\n",
        "                if spans == []:\n",
        "                    spans = list(range(position,position+len(token)))\n",
        "                    print(\"not find:\",token,spans,position,[sentence[i] for i in spans])\n",
        "                # print(token,spans,position)\n",
        "                position = spans[-1]+1\n",
        "                if set(spans[:]) <= set(toxic_spans) or (set(toxic_spans)<=set(spans) and len(set(toxic_spans))>0):\n",
        "                    token_labels.append(1.)\n",
        "                elif len(set(spans[:-1])) > 0 and (set(spans[:-1]) <= set(toxic_spans)):\n",
        "                    token_labels.append(1.)\n",
        "                else:\n",
        "                    token_labels.append(0.)\n",
        "                # print(token,spans,position)\n",
        "        labels.append(token_labels)\n",
        "    labels = torch.tensor(labels)\n",
        "\n",
        "    return input_ids, attention_mask, labels"
      ],
      "execution_count": 14,
      "outputs": []
    },
    {
      "cell_type": "code",
      "metadata": {
        "id": "D1cKOCLgPGV1"
      },
      "source": [
        "class TextDataSet(Dataset):\n",
        "    def __init__(self, input_ids, attention_mask, labels, text_list, spans_list):\n",
        "        self.input_ids = input_ids\n",
        "        self.attention_mask = attention_mask\n",
        "        self.labels = labels\n",
        "        self.text_list = text_list\n",
        "        self.spans_list = spans_list\n",
        "\n",
        "    def __len__(self):\n",
        "        return len(self.input_ids)\n",
        "\n",
        "    def __getitem__(self, idx):   \n",
        "        return (self.input_ids[idx], self.attention_mask[idx], self.labels[idx], self.text_list[idx], self.spans_list[idx])"
      ],
      "execution_count": 15,
      "outputs": []
    },
    {
      "cell_type": "code",
      "metadata": {
        "id": "woc4aK2DHLm-"
      },
      "source": [
        "input_ids,attention_mask,labels = encode_and_trans_labels(text_list, spans_list)"
      ],
      "execution_count": 16,
      "outputs": []
    },
    {
      "cell_type": "code",
      "metadata": {
        "colab": {
          "base_uri": "https://localhost:8080/"
        },
        "id": "vWPx6ernNhL7",
        "outputId": "f58af8fe-f2fa-4316-af36-66fcee966878"
      },
      "source": [
        "dataset = TextDataSet(input_ids, attention_mask, labels, text_list, spans_list)\n",
        "train_size = int(len(dataset)*0.8)\n",
        "valid_size = len(dataset)-train_size\n",
        "train_dataset, valid_dataset = random_split(dataset, [train_size,valid_size])\n",
        "print('Train samples: {}, Valid samples: {}'.format(len(train_dataset), len(valid_dataset)))"
      ],
      "execution_count": 22,
      "outputs": [
        {
          "output_type": "stream",
          "text": [
            "Train samples: 6351, Valid samples: 1588\n"
          ],
          "name": "stdout"
        }
      ]
    },
    {
      "cell_type": "code",
      "metadata": {
        "id": "3r5iu0GmPJD1"
      },
      "source": [
        "import re\n",
        "import collections\n",
        "from torch._six import string_classes\n",
        "\n",
        "np_str_obj_array_pattern = re.compile(r'[SaUO]')\n",
        "\n",
        "def default_collate(batch):\n",
        "    r\"\"\"Puts each data field into a tensor with outer dimension batch size\"\"\"\n",
        "\n",
        "    elem = batch[0]\n",
        "    elem_type = type(elem)\n",
        "    if isinstance(elem, torch.Tensor):\n",
        "        out = None\n",
        "        if torch.utils.data.get_worker_info() is not None:\n",
        "            # If we're in a background process, concatenate directly into a\n",
        "            # shared memory tensor to avoid an extra copy\n",
        "            numel = sum([x.numel() for x in batch])\n",
        "            storage = elem.storage()._new_shared(numel)\n",
        "            out = elem.new(storage)\n",
        "        return torch.stack(batch, 0, out=out)\n",
        "    elif elem_type.__module__ == 'numpy' and elem_type.__name__ != 'str_' \\\n",
        "            and elem_type.__name__ != 'string_':\n",
        "        if elem_type.__name__ == 'ndarray' or elem_type.__name__ == 'memmap':\n",
        "            # array of string classes and object\n",
        "            if np_str_obj_array_pattern.search(elem.dtype.str) is not None:\n",
        "                raise TypeError(default_collate_err_msg_format.format(elem.dtype))\n",
        "\n",
        "            return default_collate([torch.as_tensor(b) for b in batch])\n",
        "        elif elem.shape == ():  # scalars\n",
        "            return torch.as_tensor(batch)\n",
        "    elif isinstance(elem, float):\n",
        "        return torch.tensor(batch, dtype=torch.float64)\n",
        "    elif isinstance(elem, int):\n",
        "        return torch.tensor(batch)\n",
        "    elif isinstance(elem, string_classes):\n",
        "        return batch\n",
        "    elif isinstance(elem, list):\n",
        "        return batch\n",
        "    elif isinstance(elem, collections.abc.Mapping):\n",
        "        return {key: default_collate([d[key] for d in batch]) for key in elem}\n",
        "    elif isinstance(elem, tuple) and hasattr(elem, '_fields'):  # namedtuple\n",
        "        return elem_type(*(default_collate(samples) for samples in zip(*batch)))\n",
        "    elif isinstance(elem, collections.abc.Sequence):\n",
        "        # check to make sure that the elements in batch have consistent size\n",
        "        it = iter(batch)\n",
        "        elem_size = len(next(it))\n",
        "        if not all(len(elem) == elem_size for elem in it):\n",
        "            raise RuntimeError('each element in list of batch should be of equal size')\n",
        "        transposed = zip(*batch)\n",
        "        return [default_collate(samples) for samples in transposed]\n",
        "\n",
        "    raise TypeError(default_collate_err_msg_format.format(elem_type))"
      ],
      "execution_count": 23,
      "outputs": []
    },
    {
      "cell_type": "code",
      "metadata": {
        "id": "TXuDXs6LNhOa"
      },
      "source": [
        "batch_size = 8\n",
        "train_loader = DataLoader(train_dataset, batch_size=batch_size, shuffle=True, collate_fn=default_collate)\n",
        "valid_loader = DataLoader(valid_dataset, batch_size=batch_size, shuffle=True, collate_fn=default_collate)"
      ],
      "execution_count": 24,
      "outputs": []
    },
    {
      "cell_type": "code",
      "metadata": {
        "id": "R_fq789fH5C3",
        "colab": {
          "base_uri": "https://localhost:8080/",
          "height": 120,
          "referenced_widgets": [
            "1fddcbe5ae274db7850d08c015795b12",
            "cd966e8be0c34b9baca7c8276d8edc6f",
            "a1aaccb6d84b49948eb2f201f9f64ac4",
            "1a46562c10044c639242b9571176655a",
            "fbe6adc693404a6fa558c4a93d60dfa9",
            "461cc7703248429f9efce5fe8ff1453b",
            "9421d8186f5b4c088d399b2ebc5cb97a",
            "eef93311c3624d3c9535edee6692aa77"
          ]
        },
        "outputId": "ea52530e-5085-476c-e5e2-0de30491392e"
      },
      "source": [
        "model = AutoModelForTokenClassification.from_pretrained(model_name, num_labels=2)"
      ],
      "execution_count": 25,
      "outputs": [
        {
          "output_type": "stream",
          "text": [
            "04/25/2021 09:13:33 - Lock 140159506224976 acquired on /root/.cache/huggingface/transformers/6a9790a4cce0d5f0f7d5c78b57955d681fe9cb564edc75aab3733c5ba3a5550d.a2ee8c7426aca3bd41c92ad0b3e07d731d9bf61c950403e6a82b1d566b8923db.lock\n"
          ],
          "name": "stderr"
        },
        {
          "output_type": "display_data",
          "data": {
            "application/vnd.jupyter.widget-view+json": {
              "model_id": "1fddcbe5ae274db7850d08c015795b12",
              "version_minor": 0,
              "version_major": 2
            },
            "text/plain": [
              "HBox(children=(FloatProgress(value=0.0, description='Downloading', max=1344867008.0, style=ProgressStyle(descr…"
            ]
          },
          "metadata": {
            "tags": []
          }
        },
        {
          "output_type": "stream",
          "text": [
            "04/25/2021 09:13:55 - Lock 140159506224976 released on /root/.cache/huggingface/transformers/6a9790a4cce0d5f0f7d5c78b57955d681fe9cb564edc75aab3733c5ba3a5550d.a2ee8c7426aca3bd41c92ad0b3e07d731d9bf61c950403e6a82b1d566b8923db.lock\n"
          ],
          "name": "stderr"
        },
        {
          "output_type": "stream",
          "text": [
            "\n"
          ],
          "name": "stdout"
        }
      ]
    },
    {
      "cell_type": "code",
      "metadata": {
        "id": "tDYLv3fVos2o"
      },
      "source": [
        "weight_CE = torch.FloatTensor([1,2]).to(device)\n",
        "loss_fct = nn.CrossEntropyLoss(weight=weight_CE)\n",
        "def loss_fn(logits, attention_mask, labels):\n",
        "    active_loss = attention_mask.view(-1) == 1\n",
        "    active_logits = logits.view(-1, 2)\n",
        "    active_labels = torch.where(\n",
        "        active_loss, labels.view(-1), torch.tensor(loss_fct.ignore_index).type_as(labels)\n",
        "    )\n",
        "    loss = loss_fct(active_logits, active_labels)\n",
        "    return loss"
      ],
      "execution_count": 26,
      "outputs": []
    },
    {
      "cell_type": "code",
      "metadata": {
        "id": "YiX-OyyOL4wy"
      },
      "source": [
        "class Trainer:\n",
        "\n",
        "    def __init__(self, model, train_loader, valid_loader, config):\n",
        "        self.model = model\n",
        "        self.train_loader = train_loader\n",
        "        self.valid_loader = valid_loader\n",
        "        self.config = config\n",
        "\n",
        "        # take over whatever gpus are on the system\n",
        "        self.device = 'cpu'\n",
        "        if torch.cuda.is_available():\n",
        "            self.device = torch.cuda.current_device()\n",
        "            self.model = torch.nn.DataParallel(self.model).to(self.device)\n",
        "\n",
        "    def save_checkpoint(self):\n",
        "        # DataParallel wrappers keep raw model object in .module attribute\n",
        "        raw_model = self.model.module if hasattr(self.model, \"module\") else self.model\n",
        "        os.makedirs(self.config.ckpt_path, exist_ok=True)\n",
        "        logger.info(\"Save model to {}\".format(self.config.ckpt_path))\n",
        "        torch.save(raw_model.state_dict(), self.config.ckpt_path+\"best_model.pt\")\n",
        "\n",
        "    def train(self):\n",
        "        model, config = self.model, self.config\n",
        "        raw_model = model.module if hasattr(self.model, \"module\") else model\n",
        "        optimizer = torch.optim.AdamW(self.model.parameters(), lr=config.learning_rate, betas=config.betas)\n",
        "        def run_epoch(split):\n",
        "            is_train = (split == 'train')\n",
        "            model.train(is_train)\n",
        "            loader = self.train_loader if is_train else self.valid_loader\n",
        "            losses = []\n",
        "            spans_list_all = []\n",
        "            spans_pred_all = []\n",
        "            pbar = tqdm(enumerate(loader), total=len(loader)) if is_train else enumerate(loader)\n",
        "            for it, (input_ids, attention_mask, y, text_list, spans_list) in pbar:\n",
        "                # place data on the correct device\n",
        "                input_ids = input_ids.to(self.device)\n",
        "                attention_mask = attention_mask.to(self.device)\n",
        "                y = y.to(self.device).long()\n",
        "                # forward the model\n",
        "                with torch.set_grad_enabled(is_train):\n",
        "                    outputs = model(input_ids, attention_mask, labels=y)\n",
        "                    logits = outputs.logits\n",
        "                    # loss = outputs.loss\n",
        "                    loss = loss_fn(logits, attention_mask, y)\n",
        "                    loss = loss.mean() # collapse all losses if they are scattered on multiple gpus\n",
        "                    losses.append(loss.item())\n",
        "\n",
        "                    spans_pred = decode_and_trans_labels(text_list, input_ids, logits)\n",
        "                    # print(\"pred: \",spans_pred)\n",
        "                    # print(\"gold: \",spans_list)\n",
        "                    f1_score, recall_score, precision_score = batch_score(spans_pred, spans_list)\n",
        "\n",
        "                    spans_list_all.extend(spans_list)\n",
        "                    spans_pred_all.extend(spans_pred)\n",
        "\n",
        "                    # gold = (\"\".join(text_list[0][i] for i in spans_list[0])).lower()\n",
        "                    # spans_labels = torch.nonzero(y[0].cpu().detach())\n",
        "                    # spans_labels = tokenizer.convert_ids_to_tokens([input_ids[0][i] for i in spans_labels])\n",
        "                    # spans_labels = \"\".join([i.replace(\"##\",\"\") for i in spans_labels])\n",
        "                    # pred = \"\".join(text_list[0][i] for i in spans_pred[0])\n",
        "                    # print(\"\\ngold: {}\\nlables: {}\\npred: {}\".format(gold,spans_labels,pred))\n",
        "                \n",
        "                if is_train:\n",
        "\n",
        "                    # backprop and update the parameters\n",
        "                    model.zero_grad()\n",
        "                    loss.backward()\n",
        "                    torch.nn.utils.clip_grad_norm_(model.parameters(), config.grad_norm_clip)\n",
        "                    optimizer.step()\n",
        "\n",
        "                    # decay the learning rate based on our progress\n",
        "                    if config.lr_decay:\n",
        "                        self.tokens += batch_size # number of tokens processed this step (i.e. label is not -100)\n",
        "                        if self.tokens < config.warmup_tokens:\n",
        "                            # linear warmup\n",
        "                            lr_mult = float(self.tokens) / float(max(1, config.warmup_tokens))\n",
        "                        else:\n",
        "                            # cosine learning rate decay\n",
        "                            progress = float(self.tokens - config.warmup_tokens) / float(max(1, config.final_tokens - config.warmup_tokens))\n",
        "                            lr_mult = max(0.1, 0.5 * (1.0 + math.cos(math.pi * progress)))\n",
        "                        lr = config.learning_rate * lr_mult\n",
        "                        for param_group in optimizer.param_groups:\n",
        "                            param_group['lr'] = lr\n",
        "                    else:\n",
        "                        lr = config.learning_rate\n",
        "\n",
        "                    # report progress\n",
        "                    pbar.set_description(\"epoch {} iter {}: train loss {:.5f}, f1 {:.2f}%, recall {:.2f}%, precision {:.2f}%, lr {:e}\"\\\n",
        "                                         .format(epoch+1,it,loss.item(),f1_score*100,recall_score*100,precision_score*100,lr))\n",
        "                    # pbar.set_description(f\"epoch {epoch+1} iter {it}: train loss {loss.item():.5f}, f1 {f1_score:.2f}, recall_score {recall_score:.5f}, lr {lr:e}\")\n",
        "\n",
        "            if not is_train:\n",
        "                valid_loss = float(np.mean(losses))\n",
        "                valid_f1_score, valid_recall_score, valid_precision_score = batch_score(spans_pred_all, spans_list_all)\n",
        "                logger.info(\"valid loss: {:.5f}\".format(valid_loss))\n",
        "                logger.info(\"valid f1 score: {:.2f}%\".format(valid_f1_score*100))\n",
        "                logger.info(\"valid recall: {:.2f}%\".format(valid_recall_score*100))\n",
        "                logger.info(\"valid precision: {:.2f}%\".format(valid_precision_score*100))\n",
        "                return valid_loss\n",
        "\n",
        "        self.tokens = 0 # counter used for learning rate decay\n",
        "        best_loss = float('inf')\n",
        "        # valid_loss = run_epoch('valid')\n",
        "        for epoch in range(config.max_epochs):\n",
        "            \n",
        "            run_epoch('train')\n",
        "            if self.valid_loader is not None:\n",
        "                valid_loss = run_epoch('valid')\n",
        "            # supports early stopping based on the valid loss, or just save always if no valid set is provided\n",
        "            good_model = self.valid_loader is None or valid_loss < best_loss\n",
        "            if self.config.ckpt_path is not None and good_model:\n",
        "                best_loss = valid_loss\n",
        "                self.save_checkpoint()"
      ],
      "execution_count": 27,
      "outputs": []
    },
    {
      "cell_type": "code",
      "metadata": {
        "id": "CCvFh5tyQx4e"
      },
      "source": [
        "def decode_and_trans_labels(text_list, input_ids, logits):\n",
        "    token_labels = torch.argmax(logits, dim=-1).cpu().detach().numpy()\n",
        "    spans_pred = []\n",
        "    for ids, sentence, labels in zip(input_ids, text_list, token_labels):\n",
        "        tokens = tokenizer.convert_ids_to_tokens(ids)\n",
        "        position = 0\n",
        "        toxic_spans = []\n",
        "        token2span_list = []\n",
        "        # print(sentence)\n",
        "        for token, label in zip(tokens, labels):\n",
        "            if token in special_tokens.values():\n",
        "                continue\n",
        "            token = token.replace(\"##\",\"\")\n",
        "            spans = find_idx(sentence.lower(), token, position=position)\n",
        "            # print(token,spans)\n",
        "            if spans == []:\n",
        "                spans = list(range(position,position+len(token)))\n",
        "                print(\"not find:\",token,spans,position,\"\".join([sentence[i] for i in spans]))\n",
        "            position = spans[-1]+1\n",
        "            if label == 1:\n",
        "                toxic_spans.extend(spans)\n",
        "                token2span = (\"\".join([sentence[i] for i in spans])).lower()\n",
        "                if token != token2span:\n",
        "                    print(\"token: \",token)\n",
        "                    print(\"token2span: \",token2span)\n",
        "                token2span_list.append(token2span)\n",
        "        spans_pred.append(toxic_spans)\n",
        "        # print(\" \".join(token2span_list))\n",
        "    return spans_pred"
      ],
      "execution_count": 28,
      "outputs": []
    },
    {
      "cell_type": "code",
      "metadata": {
        "id": "uQmYuB_fQzwk"
      },
      "source": [
        "def f1(predictions, gold):\n",
        "    \"\"\"\n",
        "    F1 (a.k.a. DICE) operating on two lists of offsets (e.g., character).\n",
        "    >>> assert f1([0, 1, 4, 5], [0, 1, 6]) == 0.5714285714285714\n",
        "    :param predictions: a list of predicted offsets\n",
        "    :param gold: a list of offsets serving as the ground truth\n",
        "    :return: a score between 0 and 1\n",
        "    \"\"\"\n",
        "    if len(gold) == 0:\n",
        "        return 1. if len(predictions) == 0 else 0.\n",
        "    if len(predictions) == 0:\n",
        "        return 0.\n",
        "    predictions_set = set(predictions)\n",
        "    gold_set = set(gold)\n",
        "    nom = 2 * len(predictions_set.intersection(gold_set))\n",
        "    denom = len(predictions_set) + len(gold_set)\n",
        "    return float(nom)/float(denom)"
      ],
      "execution_count": 29,
      "outputs": []
    },
    {
      "cell_type": "code",
      "metadata": {
        "id": "0h0PRxuasMmd"
      },
      "source": [
        "def recall(predictions, gold):\n",
        "    if len(gold) == 0:\n",
        "        return 1. if len(predictions) == 0 else 0.\n",
        "    if len(predictions) == 0:\n",
        "        return 0.\n",
        "    predictions_set = set(predictions)\n",
        "    gold_set = set(gold)\n",
        "    nom = len(predictions_set.intersection(gold_set))\n",
        "    denom = len(gold_set)\n",
        "    return float(nom)/float(denom)\n",
        "\n",
        "def precision(predictions, gold):\n",
        "    if len(gold) == 0:\n",
        "        return 1. if len(predictions) == 0 else 0.\n",
        "    if len(predictions) == 0:\n",
        "        return 0.\n",
        "    predictions_set = set(predictions)\n",
        "    gold_set = set(gold)\n",
        "    nom = len(predictions_set.intersection(gold_set))\n",
        "    denom = len(predictions_set)\n",
        "    return float(nom)/float(denom)"
      ],
      "execution_count": 30,
      "outputs": []
    },
    {
      "cell_type": "code",
      "metadata": {
        "id": "rwbwaKD_Q0U1"
      },
      "source": [
        "def batch_score(spans_pred, spans_list):\n",
        "    f1_scores = []\n",
        "    recall_scores = []\n",
        "    precision_scores = []\n",
        "    for pred, gold in zip(spans_pred, spans_list):\n",
        "        f1_score = f1(pred, gold)\n",
        "        recall_score = recall(pred, gold)\n",
        "        precision_score = precision(pred, gold)\n",
        "        f1_scores.append(f1_score)\n",
        "        recall_scores.append(recall_score)\n",
        "        precision_scores.append(precision_score)\n",
        "    return np.mean(f1_scores), np.mean(recall_scores), np.mean(precision_scores)"
      ],
      "execution_count": 31,
      "outputs": []
    },
    {
      "cell_type": "code",
      "metadata": {
        "id": "2yZp_pa5L4y6"
      },
      "source": [
        "class TrainerConfig:\n",
        "    # optimization parameters\n",
        "    max_epochs = 10\n",
        "    learning_rate = 1e-5\n",
        "    betas = (0.9, 0.95)\n",
        "    grad_norm_clip = 1.0\n",
        "    weight_decay = 0.1 # may useful optimize method\n",
        "    # learning rate decay params: linear warmup followed by cosine decay to 10% of original\n",
        "    lr_decay = False # optimize method\n",
        "    warmup_tokens = 375e6 # use this to train model from a lower learning rate\n",
        "    final_tokens = 260e9 # all tokens during whole training process\n",
        "    # checkpoint settings\n",
        "    ckpt_path = './models/' # save model path\n",
        "\n",
        "    def __init__(self, **kwargs):\n",
        "        for k,v in kwargs.items():\n",
        "            print(k,v)\n",
        "            setattr(self, k, v)"
      ],
      "execution_count": 32,
      "outputs": []
    },
    {
      "cell_type": "code",
      "metadata": {
        "colab": {
          "base_uri": "https://localhost:8080/"
        },
        "id": "6Nv5Vk-UL41J",
        "outputId": "9a2fb5da-a725-420d-c786-1e7419346de8"
      },
      "source": [
        "# print model all parameters and parameters need training\n",
        "print('{} : all params: {:4f}M'.format(model._get_name(), sum(p.numel() for p in model.parameters()) / 1000 / 1000))"
      ],
      "execution_count": 33,
      "outputs": [
        {
          "output_type": "stream",
          "text": [
            "ElectraForTokenClassification : all params: 334.094338M\n"
          ],
          "name": "stdout"
        }
      ]
    },
    {
      "cell_type": "code",
      "metadata": {
        "colab": {
          "base_uri": "https://localhost:8080/"
        },
        "id": "JRl2WNjAL43U",
        "outputId": "8cccabec-d8f5-43c0-f221-4d71087a2313"
      },
      "source": [
        "max_epochs = 6\n",
        "final_tokens = max_epochs * batch_size * len(train_loader)\n",
        "warmup_tokens = final_tokens//10\n",
        "tconf = TrainerConfig(max_epochs=max_epochs, learning_rate=1e-5, lr_decay=True, \n",
        "                      warmup_tokens=warmup_tokens, final_tokens=final_tokens)"
      ],
      "execution_count": 34,
      "outputs": [
        {
          "output_type": "stream",
          "text": [
            "max_epochs 6\n",
            "learning_rate 1e-05\n",
            "lr_decay True\n",
            "warmup_tokens 3811\n",
            "final_tokens 38112\n"
          ],
          "name": "stdout"
        }
      ]
    },
    {
      "cell_type": "code",
      "metadata": {
        "id": "QL4rnw7ZL45R"
      },
      "source": [
        "trainer = Trainer(model, train_loader, valid_loader, tconf)"
      ],
      "execution_count": 35,
      "outputs": []
    },
    {
      "cell_type": "code",
      "metadata": {
        "id": "h49l2wyeL47g",
        "colab": {
          "base_uri": "https://localhost:8080/"
        },
        "outputId": "f62d96fc-b653-4cc0-f539-0afc7f0e5088"
      },
      "source": [
        "trainer.train()"
      ],
      "execution_count": 36,
      "outputs": [
        {
          "output_type": "stream",
          "text": [
            "epoch 1 iter 793: train loss 0.41167, f1 67.28%, recall 72.14%, precision 77.78%, lr 9.865205e-06: 100%|██████████| 794/794 [10:31<00:00,  1.26it/s]\n",
            "04/25/2021 09:25:36 - valid loss: 0.26331\n",
            "04/25/2021 09:25:36 - valid f1 score: 67.58%\n",
            "04/25/2021 09:25:36 - valid recall: 68.97%\n",
            "04/25/2021 09:25:36 - valid precision: 76.81%\n",
            "04/25/2021 09:25:36 - Save model to ./models/\n",
            "epoch 2 iter 793: train loss 0.34693, f1 68.64%, recall 77.58%, precision 83.75%, lr 8.431159e-06: 100%|██████████| 794/794 [10:31<00:00,  1.26it/s]\n",
            "04/25/2021 09:37:06 - valid loss: 0.26373\n",
            "04/25/2021 09:37:06 - valid f1 score: 68.05%\n",
            "04/25/2021 09:37:06 - valid recall: 71.99%\n",
            "04/25/2021 09:37:06 - valid precision: 75.32%\n",
            "epoch 3 iter 793: train loss 0.21808, f1 63.27%, recall 58.39%, precision 71.43%, lr 5.868191e-06: 100%|██████████| 794/794 [10:31<00:00,  1.26it/s]\n",
            "04/25/2021 09:48:30 - valid loss: 0.27871\n",
            "04/25/2021 09:48:30 - valid f1 score: 67.57%\n",
            "04/25/2021 09:48:30 - valid recall: 72.81%\n",
            "04/25/2021 09:48:30 - valid precision: 74.07%\n",
            "epoch 4 iter 793: train loss 0.05257, f1 72.90%, recall 80.00%, precision 74.49%, lr 3.019570e-06: 100%|██████████| 794/794 [10:31<00:00,  1.26it/s]\n",
            "04/25/2021 09:59:55 - valid loss: 0.34055\n",
            "04/25/2021 09:59:55 - valid f1 score: 66.55%\n",
            "04/25/2021 09:59:55 - valid recall: 70.14%\n",
            "04/25/2021 09:59:55 - valid precision: 74.23%\n",
            "epoch 5 iter 793: train loss 0.03270, f1 98.22%, recall 97.86%, precision 98.64%, lr 1.000000e-06: 100%|██████████| 794/794 [10:31<00:00,  1.26it/s]\n",
            "04/25/2021 10:11:20 - valid loss: 0.33364\n",
            "04/25/2021 10:11:20 - valid f1 score: 66.41%\n",
            "04/25/2021 10:11:20 - valid recall: 71.35%\n",
            "04/25/2021 10:11:20 - valid precision: 73.47%\n",
            "epoch 6 iter 793: train loss 0.03588, f1 87.08%, recall 97.40%, precision 83.65%, lr 1.000000e-06: 100%|██████████| 794/794 [10:32<00:00,  1.26it/s]\n",
            "04/25/2021 10:22:46 - valid loss: 0.36652\n",
            "04/25/2021 10:22:46 - valid f1 score: 65.69%\n",
            "04/25/2021 10:22:46 - valid recall: 71.88%\n",
            "04/25/2021 10:22:46 - valid precision: 71.93%\n"
          ],
          "name": "stderr"
        }
      ]
    },
    {
      "cell_type": "code",
      "metadata": {
        "colab": {
          "base_uri": "https://localhost:8080/"
        },
        "id": "-VigQ7VwtqAm",
        "outputId": "d7f8dfbb-ef55-49f1-b90d-6be02fc5c3d6"
      },
      "source": [
        "model.load_state_dict(torch.load('models/best_model.pt'))"
      ],
      "execution_count": 37,
      "outputs": [
        {
          "output_type": "execute_result",
          "data": {
            "text/plain": [
              "<All keys matched successfully>"
            ]
          },
          "metadata": {
            "tags": []
          },
          "execution_count": 37
        }
      ]
    },
    {
      "cell_type": "code",
      "metadata": {
        "colab": {
          "base_uri": "https://localhost:8080/",
          "height": 204
        },
        "id": "lZMwhLR8SkMP",
        "outputId": "cfbe8555-0e33-40c7-8d48-02afa2027bdd"
      },
      "source": [
        "tsd_test = pd.read_csv(\"toxic_spans/data/tsd_test.csv\") \n",
        "tsd_test.text = tsd_test.text.apply(lambda x:x.translate(translationTable))\n",
        "tsd_test.spans = tsd_test.spans.apply(literal_eval)\n",
        "tsd_test.tail(5)"
      ],
      "execution_count": 38,
      "outputs": [
        {
          "output_type": "execute_result",
          "data": {
            "text/html": [
              "<div>\n",
              "<style scoped>\n",
              "    .dataframe tbody tr th:only-of-type {\n",
              "        vertical-align: middle;\n",
              "    }\n",
              "\n",
              "    .dataframe tbody tr th {\n",
              "        vertical-align: top;\n",
              "    }\n",
              "\n",
              "    .dataframe thead th {\n",
              "        text-align: right;\n",
              "    }\n",
              "</style>\n",
              "<table border=\"1\" class=\"dataframe\">\n",
              "  <thead>\n",
              "    <tr style=\"text-align: right;\">\n",
              "      <th></th>\n",
              "      <th>spans</th>\n",
              "      <th>text</th>\n",
              "    </tr>\n",
              "  </thead>\n",
              "  <tbody>\n",
              "    <tr>\n",
              "      <th>1995</th>\n",
              "      <td>[4, 5, 6, 7, 8, 70, 71, 72, 73, 74, 75, 76, 77...</td>\n",
              "      <td>hey loser change your name to something more a...</td>\n",
              "    </tr>\n",
              "    <tr>\n",
              "      <th>1996</th>\n",
              "      <td>[23, 24, 25, 26, 27]</td>\n",
              "      <td>And you are a complete moron who obviously doe...</td>\n",
              "    </tr>\n",
              "    <tr>\n",
              "      <th>1997</th>\n",
              "      <td>[157, 158, 159, 160, 161, 162, 163, 164, 165, ...</td>\n",
              "      <td>Such vitriol from the left.  Who would have th...</td>\n",
              "    </tr>\n",
              "    <tr>\n",
              "      <th>1998</th>\n",
              "      <td>[]</td>\n",
              "      <td>It is now time for most of you to expand your ...</td>\n",
              "    </tr>\n",
              "    <tr>\n",
              "      <th>1999</th>\n",
              "      <td>[828, 829, 830, 831]</td>\n",
              "      <td>Why does this author think she can demand, or ...</td>\n",
              "    </tr>\n",
              "  </tbody>\n",
              "</table>\n",
              "</div>"
            ],
            "text/plain": [
              "                                                  spans                                               text\n",
              "1995  [4, 5, 6, 7, 8, 70, 71, 72, 73, 74, 75, 76, 77...  hey loser change your name to something more a...\n",
              "1996                               [23, 24, 25, 26, 27]  And you are a complete moron who obviously doe...\n",
              "1997  [157, 158, 159, 160, 161, 162, 163, 164, 165, ...  Such vitriol from the left.  Who would have th...\n",
              "1998                                                 []  It is now time for most of you to expand your ...\n",
              "1999                               [828, 829, 830, 831]  Why does this author think she can demand, or ..."
            ]
          },
          "metadata": {
            "tags": []
          },
          "execution_count": 38
        }
      ]
    },
    {
      "cell_type": "code",
      "metadata": {
        "id": "a-39QeDASpmJ"
      },
      "source": [
        "text_list_test = tsd_test.text.to_list()\n",
        "spans_list_test = tsd_test.spans.to_list()"
      ],
      "execution_count": 39,
      "outputs": []
    },
    {
      "cell_type": "code",
      "metadata": {
        "colab": {
          "base_uri": "https://localhost:8080/"
        },
        "id": "0hyZzdP3SskZ",
        "outputId": "7ae4614a-d9bf-4385-b98c-d7c38f0b23f7"
      },
      "source": [
        "print(len(text_list_test))\n",
        "print(len(spans_list_test))"
      ],
      "execution_count": 40,
      "outputs": [
        {
          "output_type": "stream",
          "text": [
            "2000\n",
            "2000\n"
          ],
          "name": "stdout"
        }
      ]
    },
    {
      "cell_type": "code",
      "metadata": {
        "id": "6Xtsw5sftZhW"
      },
      "source": [
        "def predict(text,spans):\n",
        "    input_ids,attention_mask,labels = encode_and_trans_labels([text], [spans])\n",
        "    outputs = model(input_ids.to(device), attention_mask.to(device), labels=labels.to(device).long())\n",
        "    logits = outputs.logits \n",
        "    spans_pred = decode_and_trans_labels([text], input_ids, logits)[0]\n",
        "    # gold = \"\".join(text[i] for i in spans)\n",
        "    # pred = \"\".join(text[i] for i in spans_pred)\n",
        "    # print(\"gold: {}\\npred: {}\".format(gold,pred))\n",
        "    f1_score = f1(spans_pred, spans)\n",
        "    recall_score = recall(spans_pred, spans)\n",
        "    precision_score = precision(spans_pred, spans)\n",
        "    # print(\"f1 {:.2f}%, recall {:.2f}%, precision {:.2f}%,\".format(f1_score*100,recall_score*100,precision_score*100))\n",
        "    return spans_pred, f1_score,recall_score,precision_score"
      ],
      "execution_count": 41,
      "outputs": []
    },
    {
      "cell_type": "code",
      "metadata": {
        "colab": {
          "base_uri": "https://localhost:8080/"
        },
        "id": "3BCuXUUPtZjd",
        "outputId": "29ba455d-838a-4496-df16-c974310581e4"
      },
      "source": [
        "f1_scores,recall_scores,precision_scores = [],[],[]\n",
        "predictions = []\n",
        "for i in range(len(text_list_test)):\n",
        "    spans_pred, f1_score,recall_score,precision_score = predict(text_list[i],spans_list[i])\n",
        "    f1_scores.append(f1_score)\n",
        "    recall_scores.append(recall_score)\n",
        "    precision_scores.append(precision_score)\n",
        "    predictions.append(spans_pred)\n",
        "print(\"All: f1 {:.2f}%, recall {:.2f}%, precision {:.2f}%,\".format(np.mean(f1_scores)*100,np.mean(recall_scores)*100,np.mean(precision_scores)*100))"
      ],
      "execution_count": 42,
      "outputs": [
        {
          "output_type": "stream",
          "text": [
            "All: f1 69.26%, recall 70.17%, precision 79.10%,\n"
          ],
          "name": "stdout"
        }
      ]
    },
    {
      "cell_type": "code",
      "metadata": {
        "id": "E5-RAL4SS_7Z",
        "colab": {
          "base_uri": "https://localhost:8080/"
        },
        "outputId": "3fa1465e-c14c-43d4-d10a-6d143d1254d3"
      },
      "source": [
        "# write in a prediction file named \"spans-pred.txt\"\n",
        "with open(\"spans-pred.txt\", \"w\") as out:\n",
        "    for it, text_scores in enumerate(predictions):\n",
        "        out.write(\"{}\\t{}\\n\".format(str(it),str(text_scores)))\n",
        "\n",
        "! head spans-pred.txt"
      ],
      "execution_count": 43,
      "outputs": [
        {
          "output_type": "stream",
          "text": [
            "0\t[8, 9, 10, 11, 12, 13, 14, 20, 21, 22, 23, 24, 25, 26, 27, 28, 29, 31, 32, 33, 34, 35, 36, 37, 38, 39, 41, 42, 43, 44, 45, 46, 47, 51, 52, 53, 54, 55, 56, 57, 58]\n",
            "1\t[33, 34, 35, 36, 37, 38, 39]\n",
            "2\t[0, 1, 2, 3]\n",
            "3\t[7, 8, 9, 10, 11, 12, 13, 14, 15, 16, 17]\n",
            "4\t[]\n",
            "5\t[93, 94, 95, 96, 97, 278, 279, 280, 281, 282, 283, 284]\n",
            "6\t[32, 33, 34, 35, 36, 39, 40, 41, 42, 43, 44]\n",
            "7\t[0, 1, 2, 3]\n",
            "8\t[49, 50, 51, 52, 53, 54, 147, 148, 149, 150, 151, 152]\n",
            "9\t[0, 1, 2, 3, 4, 5, 6, 26, 27, 28, 29, 32, 33, 34, 35, 36, 37, 38, 39]\n"
          ],
          "name": "stdout"
        }
      ]
    },
    {
      "cell_type": "code",
      "metadata": {
        "id": "EE-ja7Kmx_kf",
        "colab": {
          "base_uri": "https://localhost:8080/"
        },
        "outputId": "ddd4d9ed-7457-4587-eaa2-0df49bbb403e"
      },
      "source": [
        "# mount my Google Drive directory and access the training data located there\n",
        "from google.colab import drive\n",
        "gdrive_dir = '/content/gdrive/'\n",
        "drive.mount(gdrive_dir, force_remount=True)"
      ],
      "execution_count": 44,
      "outputs": [
        {
          "output_type": "stream",
          "text": [
            "Mounted at /content/gdrive/\n"
          ],
          "name": "stdout"
        }
      ]
    },
    {
      "cell_type": "code",
      "metadata": {
        "id": "oUojR4tvx_mq"
      },
      "source": [
        "!cp -r models spans-pred.txt /content/gdrive/MyDrive/ToxicSpans"
      ],
      "execution_count": 47,
      "outputs": []
    },
    {
      "cell_type": "code",
      "metadata": {
        "id": "hizz1K7xsbvj"
      },
      "source": [
        ""
      ],
      "execution_count": null,
      "outputs": []
    }
  ]
}